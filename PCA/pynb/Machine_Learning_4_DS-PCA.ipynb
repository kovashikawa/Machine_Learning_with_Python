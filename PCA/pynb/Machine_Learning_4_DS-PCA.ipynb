{
 "cells": [
  {
   "cell_type": "markdown",
   "metadata": {},
   "source": [
    "<div class=\"alert alert-block alert-info\">\n",
    "<span style=\"font-family:Georgia; font-size:2.0em;\"> Summer Program FGV/EMAp 2019</span> <br><br>\n",
    "<span style=\"font-family:Georgia; font-size:1.5em;\"> INTRODUCTION TO MACHINE LEARNING WITH PYTHON</span> <br><br>\n",
    "<span style=\"font-family:Georgia; font-size:1.5em;\"> Luis Gustavo Nonato </span> <br>\n",
    "<span style=\"font-family:Georgia; font-size:1.0em;\">ICMC-USP, Brazil </span>\n",
    "</div>"
   ]
  },
  {
   "cell_type": "markdown",
   "metadata": {},
   "source": [
    "# The following Python packages will be used in the Lab Classes:\n",
    "- pandas\n",
    "- numpy\n",
    "- matplotlib\n",
    "- sklearn\n",
    "______"
   ]
  },
  {
   "cell_type": "markdown",
   "metadata": {},
   "source": [
    "---\n",
    "# This Lab requires the file <font color=blue> domicilios-rio2010.csv </font> "
   ]
  },
  {
   "cell_type": "markdown",
   "metadata": {},
   "source": [
    "## <font color=blue> Principal Component Analysis - PCA </font>"
   ]
  },
  {
   "cell_type": "code",
   "execution_count": 1,
   "metadata": {},
   "outputs": [],
   "source": [
    "import pandas as pd\n",
    "import numpy as np\n",
    "\n",
    "from sklearn.decomposition import PCA\n",
    "\n",
    "import matplotlib.pyplot as plt\n",
    "%matplotlib inline"
   ]
  },
  {
   "cell_type": "code",
   "execution_count": 25,
   "metadata": {
    "scrolled": true
   },
   "outputs": [
    {
     "name": "stdout",
     "output_type": "stream",
     "text": [
      "\n",
      " columns: \n",
      "\n",
      " Index(['Setor', 'num_Habitantes', 'AguaADEQUADA', 'EsgotoADEQUADO',\n",
      "       'Medidor_Eletric', 'LixoADEQUADO', 'Analfa10a14anos', 'Analfa15ouMais',\n",
      "       'RespRenda_Ate1Sal', 'RendaPerCapita', 'DomRendaMedia', 'Classe_Econ'],\n",
      "      dtype='object')\n",
      "\n",
      " original shape: \n",
      " (10230, 12)\n",
      "\n",
      " cleaned shape: \n",
      " (10142, 12)\n",
      "\n",
      " shape as numpy array (for scikit.learn usage): \n",
      " (10142, 10)\n"
     ]
    }
   ],
   "source": [
    "###########\n",
    "# reading data_frame\n",
    "###########\n",
    "df = pd.read_csv('domicilios-rio2010.csv')\n",
    "\n",
    "print('\\n columns: \\n\\n', df.columns)\n",
    "print('\\n original shape: \\n', df.shape)\n",
    "\n",
    "###########\n",
    "# cleaning the data (remove rows with NaN)   NOT THE BEST PRACTICE TBH\n",
    "###########\n",
    "\n",
    "df.dropna(how='any', inplace=True)\n",
    "print('\\n cleaned shape: \\n', df.shape)\n",
    "\n",
    "###########\n",
    "# converting data columns to numpy array\n",
    "###########\n",
    "\n",
    "columns = ['num_Habitantes','AguaADEQUADA', 'EsgotoADEQUADO',\n",
    "           'Medidor_Eletric', 'LixoADEQUADO', 'Analfa10a14anos', \n",
    "           'Analfa15ouMais', 'RespRenda_Ate1Sal', 'RendaPerCapita', \n",
    "           'DomRendaMedia']\n",
    "\n",
    "data = df[columns].values\n",
    "\n",
    "# data = df[['AguaADEQUADA', 'EsgotoADEQUADO',\n",
    "#        'Medidor_Eletric', 'LixoADEQUADO', 'Analfa10a14anos', 'Analfa15ouMais',\n",
    "#        'RespRenda_Ate1Sal', 'RendaPerCapita', 'DomRendaMedia']].values\n",
    "\n",
    "print('\\n shape as numpy array (for scikit.learn usage): \\n',data.shape)\n",
    "\n",
    "# data = df[['AguaADEQUADA', 'EsgotoADEQUADO',\n",
    "#        'Medidor_Eletric', 'LixoADEQUADO', 'Analfa10a14anos', 'Analfa15ouMais',\n",
    "#        'RespRenda_Ate1Sal']].values\n"
   ]
  },
  {
   "cell_type": "code",
   "execution_count": 23,
   "metadata": {},
   "outputs": [
    {
     "data": {
      "text/plain": [
       "<matplotlib.collections.PathCollection at 0x1a18290940>"
      ]
     },
     "execution_count": 23,
     "metadata": {},
     "output_type": "execute_result"
    },
    {
     "data": {
      "image/png": "[encoded data removed]",
      "text/plain": [
       "<Figure size 432x288 with 1 Axes>"
      ]
     },
     "metadata": {
      "needs_background": "light"
     },
     "output_type": "display_data"
    }
   ],
   "source": [
    "###########\n",
    "# projecting data in 2D\n",
    "###########\n",
    "\n",
    "pca_proj1 = PCA(n_components=2)\n",
    "data_2d = pca_proj1.fit_transform(data)\n",
    "\n",
    "plt.scatter( data_2d[:, 0], data_2d[:, 1] )"
   ]
  },
  {
   "cell_type": "markdown",
   "metadata": {},
   "source": [
    "***\n",
    "---\n",
    "## Outliers hamper PCA analysis:\n",
    "\n",
    "##### identifying outliers and treating them"
   ]
  },
  {
   "cell_type": "code",
   "execution_count": 35,
   "metadata": {},
   "outputs": [
    {
     "data": {
      "text/plain": [
       "<matplotlib.collections.PathCollection at 0x1a186edac8>"
      ]
     },
     "execution_count": 35,
     "metadata": {},
     "output_type": "execute_result"
    },
    {
     "data": {
      "image/png": "[encoded data removed]",
      "text/plain": [
       "<Figure size 432x288 with 1 Axes>"
      ]
     },
     "metadata": {
      "needs_background": "light"
     },
     "output_type": "display_data"
    }
   ],
   "source": [
    "from scipy import stats\n",
    "\n",
    "###########\n",
    "# Analyzing and Removing outliers via Z-score method\n",
    "###########\n",
    "\n",
    "data_zscore = stats.zscore(data, axis=0)  ## what is the zscore ???\n",
    "\n",
    "##identify the location of outliers\n",
    "\n",
    "outliers_ids = np.where(np.abs(data_zscore) > 3)[0]\n",
    "\n",
    "## find otimized function in pandas\n",
    "non_outliers_ids = [ i for i in range(data.shape[0]) if i not in outliers_ids ]\n",
    "data_filtered = data[non_outliers_ids, :]\n",
    "\n",
    "\n",
    "pca_proj2=PCA(n_components=2)\n",
    "data_2d_filtered=pca_proj2.fit_transform(data_filtered)\n",
    "\n",
    "plt.scatter(data_2d_filtered[:,0],data_2d_filtered[:,1], c='g')"
   ]
  },
  {
   "cell_type": "code",
   "execution_count": 40,
   "metadata": {},
   "outputs": [
    {
     "name": "stdout",
     "output_type": "stream",
     "text": [
      "[7.34750912e+06 1.84225311e+05 4.00646927e+04 1.24929578e+02\n",
      " 5.89250203e+01 4.59193682e+01 6.11281756e+00 4.11406834e+00\n",
      " 2.36861270e+00 1.39556050e+00]\n",
      "\n",
      " eigenvalue: \n",
      " [9.70347003e-01 2.43296708e-02 5.29113388e-03 1.64987943e-05\n",
      " 7.78191846e-06 6.06433017e-06 8.07287762e-07 5.43323433e-07\n",
      " 3.12810259e-07 1.84304358e-07]\n"
     ]
    },
    {
     "data": {
      "text/plain": [
       "[<matplotlib.lines.Line2D at 0x1a1a136438>]"
      ]
     },
     "execution_count": 40,
     "metadata": {},
     "output_type": "execute_result"
    },
    {
     "data": {
      "image/png": "[encoded data removed]",
      "text/plain": [
       "<Figure size 432x288 with 1 Axes>"
      ]
     },
     "metadata": {
      "needs_background": "light"
     },
     "output_type": "display_data"
    }
   ],
   "source": [
    "#############\n",
    "# amount of explained variance; proving the success of the model (covariance tends to zero)\n",
    "#############\n",
    "\n",
    "data_pca = PCA( svd_solver='full' )\n",
    "\n",
    "#data_pca.fit(data[1:])\n",
    "\n",
    "data_filtered_pca = data_pca.fit(data_filtered)\n",
    "print( data_filtered_pca.explained_variance_ )\n",
    "print('\\n eigenvalue: \\n', data_filtered_pca.explained_variance_ratio_)\n",
    "\n",
    "plt.plot(data_filtered_pca.explained_variance_, 'h')"
   ]
  },
  {
   "cell_type": "code",
   "execution_count": 38,
   "metadata": {
    "scrolled": true
   },
   "outputs": [
    {
     "name": "stdout",
     "output_type": "stream",
     "text": [
      "[[2.81975994e-02 8.61813462e-05 5.19941750e-04 1.26571495e-03\n",
      "  4.93735833e-05 2.22368493e-04 4.86749938e-04 3.44156222e-03\n",
      "  3.89438029e-01 9.20613330e-01]\n",
      " [9.76689012e-01 4.97964360e-04 1.11433057e-03 1.17054238e-03\n",
      "  8.24246836e-06 1.75117781e-04 7.37905070e-04 1.50028628e-03\n",
      "  1.85320006e-01 1.08302280e-01]]\n",
      "(2, 10)\n",
      "\n",
      " columns: \n",
      " ['LixoADEQUADO', 'AguaADEQUADA', 'Analfa10a14anos', 'LixoADEQUADO', 'Analfa10a14anos', 'AguaADEQUADA']\n"
     ]
    }
   ],
   "source": [
    "#######\n",
    "# finding the most relevant attributes\n",
    "#######\n",
    "\n",
    "print( np.abs( data_filtered_pca.components_[0:2,:] ))\n",
    "\n",
    "rel_attrib = np.argsort( np.abs( data_filtered_pca.components_[0:2,:] ))\n",
    "print(rel_attrib.shape)\n",
    "\n",
    "print( '\\n columns: \\n', [columns[i] for i in rel_attrib[0:2,0:3].ravel()] )\n"
   ]
  }
 ],
 "metadata": {
  "kernelspec": {
   "display_name": "Python 3",
   "language": "python",
   "name": "python3"
  },
  "language_info": {
   "codemirror_mode": {
    "name": "ipython",
    "version": 3
   },
   "file_extension": ".py",
   "mimetype": "text/x-python",
   "name": "python",
   "nbconvert_exporter": "python",
   "pygments_lexer": "ipython3",
   "version": "3.7.0"
  }
 },
 "nbformat": 4,
 "nbformat_minor": 2
}
