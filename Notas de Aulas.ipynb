{
 "cells": [
  {
   "cell_type": "markdown",
   "metadata": {},
   "source": [
    "---\n",
    "# Class Dynamics\n",
    "\n",
    "### the lessons will be divided in two parts (theretical content and practice in the Jupyter):\n",
    "\n",
    "putting ML algorithms to work in practice, using real world data sets\n",
    "\n",
    "    Prof. Luis Gustavo Nonato \n",
    "\n",
    "    •PCA ;\n",
    "\n",
    "    •Regression ;\n",
    "\n",
    "    •Clustering ;\n",
    "\n",
    "    •Classification ;\n",
    "\n",
    "    •Tree-Based Regression & Classification\n",
    "    \n",
    "---"
   ]
  },
  {
   "cell_type": "code",
   "execution_count": null,
   "metadata": {},
   "outputs": [],
   "source": []
  }
 ],
 "metadata": {
  "kernelspec": {
   "display_name": "Python 3",
   "language": "python",
   "name": "python3"
  },
  "language_info": {
   "codemirror_mode": {
    "name": "ipython",
    "version": 3
   },
   "file_extension": ".py",
   "mimetype": "text/x-python",
   "name": "python",
   "nbconvert_exporter": "python",
   "pygments_lexer": "ipython3",
   "version": "3.7.0"
  }
 },
 "nbformat": 4,
 "nbformat_minor": 2
}
